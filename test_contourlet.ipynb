{
 "cells": [
  {
   "cell_type": "code",
   "execution_count": null,
   "id": "a7e03599",
   "metadata": {},
   "outputs": [],
   "source": [
    "import matplotlib.pyplot as plt\n",
    "import torchvision.transforms.functional as F\n",
    "import os\n"
   ]
  },
  {
   "cell_type": "code",
   "execution_count": null,
   "id": "9fb22280",
   "metadata": {},
   "outputs": [],
   "source": [
    "from torch.utils.data import DataLoader\n"
   ]
  },
  {
   "cell_type": "code",
   "execution_count": null,
   "id": "ff356290",
   "metadata": {},
   "outputs": [],
   "source": [
    "from data.dataloader import CustomDataset\n",
    "from data.utils import DataTransform\n",
    "from model.blocks.contourlet import LaplacianPyramid, DirectionalFilterBank, ContourletTransform\n"
   ]
  },
  {
   "cell_type": "code",
   "execution_count": null,
   "id": "9fb898e8",
   "metadata": {},
   "outputs": [],
   "source": [
    "transform=DataTransform(image_size=640)\n",
    "\n",
    "dataset = CustomDataset(\n",
    "    path=\"data/1_train/1_LOLdataset\",\n",
    "    transform=transform\n",
    ")\n"
   ]
  },
  {
   "cell_type": "code",
   "execution_count": null,
   "id": "0ca79f97",
   "metadata": {},
   "outputs": [],
   "source": [
    "dataloader = DataLoader(\n",
    "    dataset=dataset,\n",
    "    batch_size=16,\n",
    "    shuffle=True,\n",
    "    num_workers=int(os.cpu_count() * 0.9),\n",
    "    persistent_workers=True,\n",
    "    pin_memory=True\n",
    ")\n"
   ]
  },
  {
   "cell_type": "code",
   "execution_count": null,
   "id": "40de7035",
   "metadata": {},
   "outputs": [],
   "source": [
    "data = next(iter(dataloader))\n",
    "print(data.shape)\n"
   ]
  },
  {
   "cell_type": "code",
   "execution_count": null,
   "id": "66689712",
   "metadata": {},
   "outputs": [],
   "source": [
    "def show_batch(images, ncols=4):\n",
    "    nimgs = images.shape[0]\n",
    "    nrows = (nimgs + ncols - 1) // ncols\n",
    "    plt.figure(figsize=(ncols * 3, nrows * 3))\n",
    "    for i in range(nimgs):\n",
    "        plt.subplot(nrows, ncols, i + 1)\n",
    "        plt.imshow(F.to_pil_image(images[i]))\n",
    "        plt.axis('off')\n",
    "        plt.title(f\"Image {i}\")\n",
    "    plt.tight_layout()\n",
    "    plt.show()\n",
    "\n",
    "show_batch(data)\n"
   ]
  },
  {
   "cell_type": "code",
   "execution_count": null,
   "id": "07b01be3",
   "metadata": {},
   "outputs": [],
   "source": [
    "lp  = LaplacianPyramid(\n",
    "    num_levels=4,\n",
    "    filter_size=5,\n",
    "    sigma=1.0,\n",
    "    channels=3\n",
    ")\n",
    "\n",
    "py, lc = lp(data)\n"
   ]
  },
  {
   "cell_type": "code",
   "execution_count": null,
   "id": "5857e9f0",
   "metadata": {},
   "outputs": [],
   "source": [
    "print(len(py), len(lc))\n"
   ]
  },
  {
   "cell_type": "code",
   "execution_count": null,
   "id": "09fce6c8",
   "metadata": {},
   "outputs": [],
   "source": [
    "for i, (p, l) in enumerate(zip(py, lc)):\n",
    "    show_batch(images=p, ncols=4)\n",
    "    show_batch(images=l, ncols=4)\n"
   ]
  },
  {
   "cell_type": "code",
   "execution_count": null,
   "id": "02435567",
   "metadata": {},
   "outputs": [],
   "source": [
    "dfb = DirectionalFilterBank(\n",
    "    num_levels=4,\n",
    "    filter_size=5,\n",
    "    sigma=1.0,\n",
    "    omega_x=0.25,\n",
    "    omega_y=0.25,\n",
    "    channels=3\n",
    ")\n",
    "\n",
    "for l in lc:\n",
    "    dfb_data = dfb(l)\n",
    "    for i, d in enumerate(dfb_data):\n",
    "        show_batch(images=d, ncols=8)\n",
    "    break\n"
   ]
  },
  {
   "cell_type": "code",
   "execution_count": null,
   "id": "cfdd22f9",
   "metadata": {},
   "outputs": [],
   "source": [
    "contourlet = ContourletTransform(\n",
    "    num_levels=3,\n",
    "    filter_size=5,\n",
    "    sigma=1.0,\n",
    "    omega_x=0.25,\n",
    "    omega_y=0.25,\n",
    "    channels=3\n",
    ")\n",
    "\n",
    "pyramid, subbands = contourlet(data)\n"
   ]
  },
  {
   "cell_type": "code",
   "execution_count": null,
   "id": "17e78d41",
   "metadata": {},
   "outputs": [],
   "source": [
    "print(len(pyramid), len(subbands))\n",
    "for i in range(len(subbands)): print(len(subbands[i]))\n"
   ]
  },
  {
   "cell_type": "code",
   "execution_count": null,
   "id": "a5a8a1ec",
   "metadata": {},
   "outputs": [],
   "source": [
    "for i, subband in enumerate(subbands):\n",
    "    for i, s in enumerate(subband):\n",
    "        show_batch(images=s, ncols=8)\n"
   ]
  }
 ],
 "metadata": {
  "kernelspec": {
   "display_name": "jih_icicic",
   "language": "python",
   "name": "python3"
  },
  "language_info": {
   "codemirror_mode": {
    "name": "ipython",
    "version": 3
   },
   "file_extension": ".py",
   "mimetype": "text/x-python",
   "name": "python",
   "nbconvert_exporter": "python",
   "pygments_lexer": "ipython3",
   "version": "3.11.11"
  }
 },
 "nbformat": 4,
 "nbformat_minor": 5
}
