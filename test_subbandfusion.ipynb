{
 "cells": [
  {
   "cell_type": "code",
   "execution_count": null,
   "id": "089c9640",
   "metadata": {},
   "outputs": [],
   "source": [
    "import matplotlib.pyplot as plt\n",
    "import torchvision.transforms.functional as F\n",
    "import os\n"
   ]
  },
  {
   "cell_type": "code",
   "execution_count": null,
   "id": "b3e13691",
   "metadata": {},
   "outputs": [],
   "source": [
    "from torch.utils.data import DataLoader\n"
   ]
  },
  {
   "cell_type": "code",
   "execution_count": null,
   "id": "9b96ef3a",
   "metadata": {},
   "outputs": [],
   "source": [
    "from data.dataloader import CustomDataset\n",
    "from data.utils import DataTransform\n",
    "from model.blocks.contourlet import ContourletTransform\n",
    "from model.blocks.subbandfusion import SubbandFusionNet\n"
   ]
  },
  {
   "cell_type": "code",
   "execution_count": null,
   "id": "76c97ccc",
   "metadata": {},
   "outputs": [],
   "source": [
    "transform=DataTransform(image_size=640)\n",
    "\n",
    "dataset = CustomDataset(\n",
    "    path=\"data/1_train/1_LOLdataset\",\n",
    "    transform=transform\n",
    ")\n"
   ]
  },
  {
   "cell_type": "code",
   "execution_count": null,
   "id": "e90d2fe6",
   "metadata": {},
   "outputs": [],
   "source": [
    "dataloader = DataLoader(\n",
    "    dataset=dataset,\n",
    "    batch_size=16,\n",
    "    shuffle=True,\n",
    "    num_workers=int(os.cpu_count() * 0.9),\n",
    "    persistent_workers=True,\n",
    "    pin_memory=True\n",
    ")\n"
   ]
  },
  {
   "cell_type": "code",
   "execution_count": null,
   "id": "8abd6fc4",
   "metadata": {},
   "outputs": [],
   "source": [
    "data = next(iter(dataloader))\n",
    "print(data.shape)\n"
   ]
  },
  {
   "cell_type": "code",
   "execution_count": null,
   "id": "470beb6e",
   "metadata": {},
   "outputs": [],
   "source": [
    "def show_batch(images, ncols=4):\n",
    "    nimgs = images.shape[0]\n",
    "    nrows = (nimgs + ncols - 1) // ncols\n",
    "    plt.figure(figsize=(ncols * 3, nrows * 3))\n",
    "    for i in range(nimgs):\n",
    "        plt.subplot(nrows, ncols, i + 1)\n",
    "        plt.imshow(F.to_pil_image(images[i]))\n",
    "        plt.axis('off')\n",
    "        plt.title(f\"Image {i}\")\n",
    "    plt.tight_layout()\n",
    "    plt.show()\n",
    "\n",
    "show_batch(images=data, ncols=8)\n"
   ]
  },
  {
   "cell_type": "code",
   "execution_count": null,
   "id": "f942ad82",
   "metadata": {},
   "outputs": [],
   "source": [
    "contourlet = ContourletTransform(\n",
    "    num_levels=4,\n",
    "    filter_size=5,\n",
    "    sigma=1.0,\n",
    "    omega_x=0.25,\n",
    "    omega_y=0.25,\n",
    "    channels=3\n",
    ")\n",
    "\n",
    "pyramid, subbands = contourlet(data)\n",
    "show_batch(images=pyramid[-1], ncols=8)\n"
   ]
  },
  {
   "cell_type": "code",
   "execution_count": null,
   "id": "11f172b0",
   "metadata": {},
   "outputs": [],
   "source": [
    "subbandfusion = SubbandFusionNet(\n",
    "    in_channels=3,\n",
    "    base_channels=64,\n",
    "    num_levels=4,\n",
    "    num_heads=8\n",
    ")\n",
    "\n",
    "fusion = subbandfusion(subbands)\n",
    "\n",
    "show_batch(images=fusion, ncols=8)\n"
   ]
  }
 ],
 "metadata": {
  "kernelspec": {
   "display_name": "jih_icicic",
   "language": "python",
   "name": "python3"
  },
  "language_info": {
   "codemirror_mode": {
    "name": "ipython",
    "version": 3
   },
   "file_extension": ".py",
   "mimetype": "text/x-python",
   "name": "python",
   "nbconvert_exporter": "python",
   "pygments_lexer": "ipython3",
   "version": "3.11.11"
  }
 },
 "nbformat": 4,
 "nbformat_minor": 5
}
