{
 "cells": [
  {
   "cell_type": "code",
   "execution_count": 1,
   "id": "14e5a38a",
   "metadata": {},
   "outputs": [],
   "source": [
    "import sys\n",
    "sys.path.append(\"..\")\n"
   ]
  },
  {
   "cell_type": "code",
   "execution_count": 2,
   "id": "a7e03599",
   "metadata": {},
   "outputs": [],
   "source": [
    "from data.dataloader import LowLightDataModule\n",
    "from model.blocks.contourlet import LaplacianPyramid, DirectionalFilterBank, ContourletTransform\n",
    "from utils.utils import show_batch\n"
   ]
  },
  {
   "cell_type": "code",
   "execution_count": 3,
   "id": "16cec6f9",
   "metadata": {},
   "outputs": [],
   "source": [
    "data_module = LowLightDataModule(\n",
    "    train_dir=\"../data/1_train\",\n",
    "    valid_dir=\"../data/2_valid\",\n",
    "    bench_dir=\"../data/3_bench\",\n",
    "    infer_dir=\"../data/4_infer\",\n",
    "    image_size=640,\n",
    "    batch_size=32,\n",
    "    num_workers=4\n",
    ")\n",
    "\n",
    "data_module.setup()\n"
   ]
  },
  {
   "cell_type": "code",
   "execution_count": 4,
   "id": "44a18f23",
   "metadata": {},
   "outputs": [],
   "source": [
    "train_dataloader = data_module.train_dataloader()\n"
   ]
  },
  {
   "cell_type": "code",
   "execution_count": null,
   "id": "74c6ce3c",
   "metadata": {},
   "outputs": [
    {
     "name": "stdout",
     "output_type": "stream",
     "text": [
      "torch.Size([32, 3, 640, 960])\n",
      "torch.Size([32, 3, 640, 960])\n"
     ]
    }
   ],
   "source": [
    "train_low, train_high = next(iter(train_dataloader))\n",
    "print(train_low.shape)\n",
    "print(train_high.shape)\n",
    "# show_batch(images=train_low)\n",
    "# show_batch(images=train_high)\n"
   ]
  },
  {
   "cell_type": "code",
   "execution_count": 6,
   "id": "07b01be3",
   "metadata": {},
   "outputs": [
    {
     "name": "stderr",
     "output_type": "stream",
     "text": [
      "c:\\Users\\jungih\\dev\\ContourDiffusion\\.venv\\lib\\site-packages\\torch\\functional.py:554: UserWarning: torch.meshgrid: in an upcoming release, it will be required to pass the indexing argument. (Triggered internally at C:\\actions-runner\\_work\\pytorch\\pytorch\\pytorch\\aten\\src\\ATen\\native\\TensorShape.cpp:4316.)\n",
      "  return _VF.meshgrid(tensors, **kwargs)  # type: ignore[attr-defined]\n"
     ]
    }
   ],
   "source": [
    "lp  = LaplacianPyramid(\n",
    "    in_channels=3,\n",
    "    num_levels=4,\n",
    "    filter_size=5,\n",
    "    sigma=1.0\n",
    ")\n",
    "\n",
    "py, lc = lp(train_low)\n"
   ]
  },
  {
   "cell_type": "code",
   "execution_count": 7,
   "id": "5857e9f0",
   "metadata": {},
   "outputs": [
    {
     "name": "stdout",
     "output_type": "stream",
     "text": [
      "4 4\n"
     ]
    }
   ],
   "source": [
    "print(len(py), len(lc))\n"
   ]
  },
  {
   "cell_type": "code",
   "execution_count": 8,
   "id": "09fce6c8",
   "metadata": {},
   "outputs": [
    {
     "name": "stdout",
     "output_type": "stream",
     "text": [
      "--------\n",
      "p shape : torch.Size([32, 3, 640, 960])\n",
      "l shape : torch.Size([32, 3, 640, 960])\n",
      "--------\n",
      "p shape : torch.Size([32, 3, 320, 480])\n",
      "l shape : torch.Size([32, 3, 320, 480])\n",
      "--------\n",
      "p shape : torch.Size([32, 3, 160, 240])\n",
      "l shape : torch.Size([32, 3, 160, 240])\n",
      "--------\n",
      "p shape : torch.Size([32, 3, 80, 120])\n",
      "l shape : torch.Size([32, 3, 80, 120])\n"
     ]
    }
   ],
   "source": [
    "for i, (p, l) in enumerate(zip(py, lc)):\n",
    "    print(\"--------\")\n",
    "    print(\"p shape :\", p.shape)\n",
    "    print(\"l shape :\", l.shape)\n",
    "    # show_batch(images=p)\n",
    "    # show_batch(images=l)\n"
   ]
  },
  {
   "cell_type": "code",
   "execution_count": 9,
   "id": "02435567",
   "metadata": {},
   "outputs": [
    {
     "name": "stdout",
     "output_type": "stream",
     "text": [
      "-------- 2\n",
      "s shape : torch.Size([32, 3, 640, 960])\n",
      "s shape : torch.Size([32, 3, 640, 960])\n",
      "-------- 16\n",
      "s shape : torch.Size([32, 3, 80, 120])\n",
      "s shape : torch.Size([32, 3, 80, 120])\n",
      "s shape : torch.Size([32, 3, 80, 120])\n",
      "s shape : torch.Size([32, 3, 80, 120])\n",
      "s shape : torch.Size([32, 3, 80, 120])\n",
      "s shape : torch.Size([32, 3, 80, 120])\n",
      "s shape : torch.Size([32, 3, 80, 120])\n",
      "s shape : torch.Size([32, 3, 80, 120])\n",
      "s shape : torch.Size([32, 3, 80, 120])\n",
      "s shape : torch.Size([32, 3, 80, 120])\n",
      "s shape : torch.Size([32, 3, 80, 120])\n",
      "s shape : torch.Size([32, 3, 80, 120])\n",
      "s shape : torch.Size([32, 3, 80, 120])\n",
      "s shape : torch.Size([32, 3, 80, 120])\n",
      "s shape : torch.Size([32, 3, 80, 120])\n",
      "s shape : torch.Size([32, 3, 80, 120])\n"
     ]
    }
   ],
   "source": [
    "dfb_1 = DirectionalFilterBank(\n",
    "    in_channels=3,\n",
    "    num_levels=1,\n",
    "    filter_size=5,\n",
    "    sigma=1.0,\n",
    "    omega_x=0.25,\n",
    "    omega_y=0.25\n",
    ")\n",
    "\n",
    "dfb_4 = DirectionalFilterBank(\n",
    "    in_channels=3,\n",
    "    num_levels=4,\n",
    "    filter_size=5,\n",
    "    sigma=1.0,\n",
    "    omega_x=0.25,\n",
    "    omega_y=0.25\n",
    ")\n",
    "\n",
    "subband_1 = dfb_1(lc[0])\n",
    "print(\"--------\", len(subband_1))\n",
    "for s in subband_1:\n",
    "    print(\"s shape :\", s.shape)\n",
    "    # show_batch(images=s)\n",
    "\n",
    "subband_4 = dfb_4(lc[-1])\n",
    "print(\"--------\", len(subband_4))\n",
    "for s in subband_4:\n",
    "    print(\"s shape :\", s.shape)\n",
    "    # show_batch(images=s)\n"
   ]
  },
  {
   "cell_type": "code",
   "execution_count": 10,
   "id": "cfdd22f9",
   "metadata": {},
   "outputs": [],
   "source": [
    "contourlet = ContourletTransform(\n",
    "    in_channels=3,\n",
    "    num_levels=4,\n",
    "    filter_size=5,\n",
    "    sigma=1.0,\n",
    "    omega_x=0.25,\n",
    "    omega_y=0.25\n",
    ")\n",
    "\n",
    "pyramid, subbands = contourlet(train_low)\n"
   ]
  },
  {
   "cell_type": "code",
   "execution_count": 11,
   "id": "2b6eca12",
   "metadata": {},
   "outputs": [
    {
     "ename": "SyntaxError",
     "evalue": "invalid syntax. Perhaps you forgot a comma? (2951637138.py, line 2)",
     "output_type": "error",
     "traceback": [
      "\u001b[1;36m  Cell \u001b[1;32mIn[11], line 2\u001b[1;36m\u001b[0m\n\u001b[1;33m    print(\"--------\"ArithmeticError, len(p))\u001b[0m\n\u001b[1;37m          ^\u001b[0m\n\u001b[1;31mSyntaxError\u001b[0m\u001b[1;31m:\u001b[0m invalid syntax. Perhaps you forgot a comma?\n"
     ]
    }
   ],
   "source": [
    "for i, p in enumerate(iterable=pyramid):\n",
    "    print(\"--------\"ArithmeticError, len(p))\n",
    "    print(\"p shape :\", p.shape)\n"
   ]
  },
  {
   "cell_type": "code",
   "execution_count": null,
   "id": "a5a8a1ec",
   "metadata": {},
   "outputs": [
    {
     "name": "stdout",
     "output_type": "stream",
     "text": [
      "-------- 16\n",
      "s shape : torch.Size([32, 3, 80, 120])\n",
      "s shape : torch.Size([32, 3, 80, 120])\n",
      "s shape : torch.Size([32, 3, 80, 120])\n",
      "s shape : torch.Size([32, 3, 80, 120])\n",
      "s shape : torch.Size([32, 3, 80, 120])\n",
      "s shape : torch.Size([32, 3, 80, 120])\n",
      "s shape : torch.Size([32, 3, 80, 120])\n",
      "s shape : torch.Size([32, 3, 80, 120])\n",
      "s shape : torch.Size([32, 3, 80, 120])\n",
      "s shape : torch.Size([32, 3, 80, 120])\n",
      "s shape : torch.Size([32, 3, 80, 120])\n",
      "s shape : torch.Size([32, 3, 80, 120])\n",
      "s shape : torch.Size([32, 3, 80, 120])\n",
      "s shape : torch.Size([32, 3, 80, 120])\n",
      "s shape : torch.Size([32, 3, 80, 120])\n",
      "s shape : torch.Size([32, 3, 80, 120])\n",
      "-------- 8\n",
      "s shape : torch.Size([32, 3, 160, 240])\n",
      "s shape : torch.Size([32, 3, 160, 240])\n",
      "s shape : torch.Size([32, 3, 160, 240])\n",
      "s shape : torch.Size([32, 3, 160, 240])\n",
      "s shape : torch.Size([32, 3, 160, 240])\n",
      "s shape : torch.Size([32, 3, 160, 240])\n",
      "s shape : torch.Size([32, 3, 160, 240])\n",
      "s shape : torch.Size([32, 3, 160, 240])\n",
      "-------- 4\n",
      "s shape : torch.Size([32, 3, 320, 480])\n",
      "s shape : torch.Size([32, 3, 320, 480])\n",
      "s shape : torch.Size([32, 3, 320, 480])\n",
      "s shape : torch.Size([32, 3, 320, 480])\n",
      "-------- 2\n",
      "s shape : torch.Size([32, 3, 640, 960])\n",
      "s shape : torch.Size([32, 3, 640, 960])\n"
     ]
    }
   ],
   "source": [
    "for i, subband in enumerate(iterable=subbands):\n",
    "    print(\"--------\", len(subband))\n",
    "    for i, s in enumerate(iterable=subband):\n",
    "        print(\"s shape :\", s.shape)\n"
   ]
  }
 ],
 "metadata": {
  "kernelspec": {
   "display_name": "contourdiffusion",
   "language": "python",
   "name": "python3"
  },
  "language_info": {
   "codemirror_mode": {
    "name": "ipython",
    "version": 3
   },
   "file_extension": ".py",
   "mimetype": "text/x-python",
   "name": "python",
   "nbconvert_exporter": "python",
   "pygments_lexer": "ipython3",
   "version": "3.10.14"
  }
 },
 "nbformat": 4,
 "nbformat_minor": 5
}
