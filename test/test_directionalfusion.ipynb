{
 "cells": [
  {
   "cell_type": "code",
   "execution_count": 1,
   "id": "fec3f938",
   "metadata": {},
   "outputs": [],
   "source": [
    "import sys\n",
    "sys.path.append(\"..\")\n"
   ]
  },
  {
   "cell_type": "code",
   "execution_count": 2,
   "id": "9b96ef3a",
   "metadata": {},
   "outputs": [],
   "source": [
    "from data.dataloader import LowLightDataModule\n",
    "from model.blocks.contourlet import ContourletTransform\n",
    "from model.blocks.directionalfusion import DirectionalFusion\n",
    "from utils.utils import show_batch\n"
   ]
  },
  {
   "cell_type": "code",
   "execution_count": 3,
   "id": "56f038a1",
   "metadata": {},
   "outputs": [],
   "source": [
    "data_module = LowLightDataModule(\n",
    "    train_dir=\"../data/1_train\",\n",
    "    valid_dir=\"../data/2_valid\",\n",
    "    bench_dir=\"../data/3_bench\",\n",
    "    infer_dir=\"../data/4_infer\",\n",
    "    image_size=640,\n",
    "    batch_size=4,\n",
    "    num_workers=4\n",
    ")\n",
    "\n",
    "data_module.setup()\n"
   ]
  },
  {
   "cell_type": "code",
   "execution_count": 4,
   "id": "bf5f3c81",
   "metadata": {},
   "outputs": [],
   "source": [
    "train_dataloader = data_module.train_dataloader()\n"
   ]
  },
  {
   "cell_type": "code",
   "execution_count": 5,
   "id": "93548f84",
   "metadata": {},
   "outputs": [
    {
     "name": "stdout",
     "output_type": "stream",
     "text": [
      "torch.Size([4, 3, 640, 960])\n",
      "torch.Size([4, 3, 640, 960])\n"
     ]
    }
   ],
   "source": [
    "train_low, train_high = next(iter(train_dataloader))\n",
    "print(train_low.shape)\n",
    "print(train_high.shape)\n",
    "# show_batch(images=train_low)\n",
    "# show_batch(images=train_high)\n"
   ]
  },
  {
   "cell_type": "code",
   "execution_count": 6,
   "id": "f942ad82",
   "metadata": {},
   "outputs": [
    {
     "name": "stderr",
     "output_type": "stream",
     "text": [
      "c:\\Users\\jungih\\dev\\ContourDiffusion\\.venv\\lib\\site-packages\\torch\\functional.py:554: UserWarning: torch.meshgrid: in an upcoming release, it will be required to pass the indexing argument. (Triggered internally at C:\\actions-runner\\_work\\pytorch\\pytorch\\pytorch\\aten\\src\\ATen\\native\\TensorShape.cpp:4316.)\n",
      "  return _VF.meshgrid(tensors, **kwargs)  # type: ignore[attr-defined]\n"
     ]
    }
   ],
   "source": [
    "contourlet = ContourletTransform(\n",
    "    in_channels=3,\n",
    "    num_levels=4,\n",
    "    filter_size=5,\n",
    "    sigma=1.0,\n",
    "    omega_x=0.25,\n",
    "    omega_y=0.25,\n",
    ")\n",
    "\n",
    "directioanlfusion = DirectionalFusion(\n",
    "    in_channels=3,\n",
    "    hidden_channels=64,\n",
    "    num_levels=4,\n",
    "    squeeze_ratio=0.3\n",
    ")\n"
   ]
  },
  {
   "cell_type": "code",
   "execution_count": 7,
   "id": "11f172b0",
   "metadata": {},
   "outputs": [],
   "source": [
    "train_low = train_low.cuda()\n",
    "contourlet = contourlet.cuda()\n",
    "directioanlfusion = directioanlfusion.cuda()\n",
    "\n",
    "pyramid, subbands = contourlet(train_low)\n",
    "fusion = directioanlfusion(subbands)\n"
   ]
  },
  {
   "cell_type": "code",
   "execution_count": 8,
   "id": "d530a2af",
   "metadata": {},
   "outputs": [
    {
     "name": "stdout",
     "output_type": "stream",
     "text": [
      "torch.Size([4, 512, 80, 120]) cuda:0\n",
      "torch.Size([4, 256, 160, 240]) cuda:0\n",
      "torch.Size([4, 128, 320, 480]) cuda:0\n",
      "torch.Size([4, 64, 640, 960]) cuda:0\n"
     ]
    }
   ],
   "source": [
    "for i in fusion:\n",
    "    print(i.shape, i.device)\n"
   ]
  }
 ],
 "metadata": {
  "kernelspec": {
   "display_name": "contourdiffusion",
   "language": "python",
   "name": "python3"
  },
  "language_info": {
   "codemirror_mode": {
    "name": "ipython",
    "version": 3
   },
   "file_extension": ".py",
   "mimetype": "text/x-python",
   "name": "python",
   "nbconvert_exporter": "python",
   "pygments_lexer": "ipython3",
   "version": "3.10.14"
  }
 },
 "nbformat": 4,
 "nbformat_minor": 5
}
