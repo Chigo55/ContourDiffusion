{
 "cells": [
  {
   "cell_type": "code",
   "execution_count": null,
   "id": "fe9eb3eb",
   "metadata": {},
   "outputs": [],
   "source": [
    "import sys\n",
    "sys.path.append(\"..\")\n"
   ]
  },
  {
   "cell_type": "code",
   "execution_count": 2,
   "id": "d3b8db5b",
   "metadata": {},
   "outputs": [],
   "source": [
    "import matplotlib.pyplot as plt\n",
    "import torchvision.transforms.functional as F\n",
    "\n",
    "from torch.utils.data import DataLoader\n",
    "\n",
    "from data.dataloader import LowLightDataModule\n",
    "from data.utils import LowLightDataset\n",
    "from utils.utils import show_batch\n"
   ]
  },
  {
   "cell_type": "code",
   "execution_count": 3,
   "id": "3b2870ba",
   "metadata": {},
   "outputs": [],
   "source": [
    "dataset = LowLightDataset(path=\"../data/1_train/LOLdataset\", image_size=640)\n"
   ]
  },
  {
   "cell_type": "code",
   "execution_count": 4,
   "id": "0627306e",
   "metadata": {},
   "outputs": [],
   "source": [
    "dataloader = DataLoader(\n",
    "    dataset=dataset,\n",
    "    batch_size=16,\n",
    "    shuffle=True,\n",
    "    num_workers=4,\n",
    "    persistent_workers=True,\n",
    "    pin_memory=True\n",
    ")\n"
   ]
  },
  {
   "cell_type": "code",
   "execution_count": 5,
   "id": "41ce95bc",
   "metadata": {},
   "outputs": [
    {
     "name": "stdout",
     "output_type": "stream",
     "text": [
      "torch.Size([16, 3, 640, 960])\n",
      "torch.Size([16, 3, 640, 960])\n"
     ]
    }
   ],
   "source": [
    "low, high = next(iter(dataloader))\n",
    "print(low.shape)\n",
    "print(high.shape)\n"
   ]
  },
  {
   "cell_type": "code",
   "execution_count": 6,
   "id": "3cdaeb29",
   "metadata": {},
   "outputs": [],
   "source": [
    "# show_batch(images=low)\n",
    "# show_batch(images=high)\n"
   ]
  },
  {
   "cell_type": "code",
   "execution_count": 7,
   "id": "a88c173c",
   "metadata": {},
   "outputs": [],
   "source": [
    "data_module = LowLightDataModule(\n",
    "    train_dir=\"../data/1_train\",\n",
    "    valid_dir=\"../data/2_valid\",\n",
    "    bench_dir=\"../data/3_bench\",\n",
    "    infer_dir=\"../data/4_infer\",\n",
    "    image_size=640,\n",
    "    batch_size=32,\n",
    "    num_workers=4\n",
    ")\n",
    "\n",
    "data_module.setup()\n"
   ]
  },
  {
   "cell_type": "code",
   "execution_count": 8,
   "id": "671e6bc7",
   "metadata": {},
   "outputs": [],
   "source": [
    "train_dataloader = data_module.train_dataloader()\n"
   ]
  },
  {
   "cell_type": "code",
   "execution_count": 9,
   "id": "0aef5ded",
   "metadata": {},
   "outputs": [
    {
     "name": "stdout",
     "output_type": "stream",
     "text": [
      "torch.Size([32, 3, 640, 960])\n",
      "torch.Size([32, 3, 640, 960])\n"
     ]
    }
   ],
   "source": [
    "train_low, train_high = next(iter(train_dataloader))\n",
    "print(train_low.shape)\n",
    "print(train_high.shape)\n"
   ]
  },
  {
   "cell_type": "code",
   "execution_count": null,
   "id": "3e09be92",
   "metadata": {},
   "outputs": [],
   "source": [
    "# show_batch(images=train_low)\n",
    "# show_batch(images=train_high)\n"
   ]
  }
 ],
 "metadata": {
  "kernelspec": {
   "display_name": "contourdiffusion",
   "language": "python",
   "name": "python3"
  },
  "language_info": {
   "codemirror_mode": {
    "name": "ipython",
    "version": 3
   },
   "file_extension": ".py",
   "mimetype": "text/x-python",
   "name": "python",
   "nbconvert_exporter": "python",
   "pygments_lexer": "ipython3",
   "version": "3.10.14"
  }
 },
 "nbformat": 4,
 "nbformat_minor": 5
}
