{
 "cells": [
  {
   "cell_type": "code",
   "execution_count": null,
   "id": "2a011dd5",
   "metadata": {},
   "outputs": [],
   "source": [
    "import matplotlib.pyplot as plt\n",
    "import torchvision.transforms.functional as F\n",
    "import os\n",
    "import torch\n"
   ]
  },
  {
   "cell_type": "code",
   "execution_count": null,
   "id": "f64cff50",
   "metadata": {},
   "outputs": [],
   "source": [
    "from torch.utils.data import DataLoader\n"
   ]
  },
  {
   "cell_type": "code",
   "execution_count": null,
   "id": "09a0a487",
   "metadata": {},
   "outputs": [],
   "source": [
    "from data.dataloader import CustomDataset\n",
    "from data.utils import DataTransform\n",
    "from model.blocks.contourlet import ContourletTransform\n",
    "from model.blocks.unet import UNet\n"
   ]
  },
  {
   "cell_type": "code",
   "execution_count": null,
   "id": "2ff4f2f2",
   "metadata": {},
   "outputs": [],
   "source": [
    "transform=DataTransform(image_size=640)\n",
    "\n",
    "dataset = CustomDataset(\n",
    "    path=\"data/1_train/1_LOLdataset\",\n",
    "    transform=transform\n",
    ")\n"
   ]
  },
  {
   "cell_type": "code",
   "execution_count": null,
   "id": "00ec6df4",
   "metadata": {},
   "outputs": [],
   "source": [
    "dataloader = DataLoader(\n",
    "    dataset=dataset,\n",
    "    batch_size=16,\n",
    "    shuffle=True,\n",
    "    num_workers=int(os.cpu_count() * 0.9),\n",
    "    persistent_workers=True,\n",
    "    pin_memory=True\n",
    ")\n"
   ]
  },
  {
   "cell_type": "code",
   "execution_count": null,
   "id": "281c6a8d",
   "metadata": {},
   "outputs": [],
   "source": [
    "data = next(iter(dataloader))\n",
    "print(data.shape)\n"
   ]
  },
  {
   "cell_type": "code",
   "execution_count": null,
   "id": "7966031b",
   "metadata": {},
   "outputs": [],
   "source": [
    "def show_batch(images, ncols=4):\n",
    "    nimgs = images.shape[0]\n",
    "    nrows = (nimgs + ncols - 1) // ncols\n",
    "    plt.figure(figsize=(ncols * 3, nrows * 3))\n",
    "    for i in range(nimgs):\n",
    "        plt.subplot(nrows, ncols, i + 1)\n",
    "        plt.imshow(F.to_pil_image(images[i]))\n",
    "        plt.axis('off')\n",
    "        plt.title(f\"Image {i}\")\n",
    "    plt.tight_layout()\n",
    "    plt.show()\n",
    "\n",
    "show_batch(images=data, ncols=8)\n"
   ]
  },
  {
   "cell_type": "code",
   "execution_count": null,
   "id": "ef03b16b",
   "metadata": {},
   "outputs": [],
   "source": [
    "contourlet = ContourletTransform(\n",
    "    num_levels=4,\n",
    "    filter_size=5,\n",
    "    sigma=1.0,\n",
    "    omega_x=0.25,\n",
    "    omega_y=0.25,\n",
    "    channels=3\n",
    ")\n",
    "\n",
    "pyramid, subbands = contourlet(data)\n",
    "show_batch(images=pyramid[0], ncols=8)\n",
    "show_batch(images=pyramid[-1], ncols=8)\n"
   ]
  },
  {
   "cell_type": "code",
   "execution_count": null,
   "id": "407ea88e",
   "metadata": {},
   "outputs": [],
   "source": [
    "t = torch.randint(low=0, high=10000, size=(16,))\n",
    "unet = UNet(in_channels=3, out_channels=3, hidden_channels=64, num_levels=4, temb_dim=64, dropout=0.1, shortcut=True, trainable=False)\n",
    "\n",
    "unet_d = unet(pyramid[0], t)\n",
    "show_batch(images=unet_d, ncols=8)\n",
    "\n",
    "unet_d = unet(pyramid[-1], t)\n",
    "show_batch(images=unet_d, ncols=8)\n"
   ]
  },
  {
   "cell_type": "code",
   "execution_count": null,
   "id": "ecc43a6f",
   "metadata": {},
   "outputs": [],
   "source": [
    "contourlet = ContourletTransform(\n",
    "    num_levels=4,\n",
    "    filter_size=5,\n",
    "    sigma=1.0,\n",
    "    omega_x=0.25,\n",
    "    omega_y=0.25,\n",
    "    channels=3\n",
    ").to(device=\"cuda\")\n",
    "\n",
    "unet = UNet(\n",
    "    in_channels=3,\n",
    "    out_channels=3,\n",
    "    hidden_channels=64,\n",
    "    num_levels=4,\n",
    "    temb_dim=64,\n",
    "    dropout=0.1,\n",
    "    shortcut=True,\n",
    "    trainable=False\n",
    ").to(device=\"cuda\")\n"
   ]
  },
  {
   "cell_type": "code",
   "execution_count": null,
   "id": "cae356c7",
   "metadata": {},
   "outputs": [],
   "source": [
    "data = data.to(device=\"cuda\")\n",
    "t = torch.randint(low=0, high=10000, size=(16,), device=\"cuda\")\n",
    "\n",
    "pyramid, subbands = contourlet(data)\n",
    "unet_d = unet(data, t, pyramid, subbands)\n",
    "unet_d.to(device=\"cpu\")\n",
    "show_batch(images=unet_d, ncols=8)\n",
    "\n",
    "pyramid, subbands = contourlet(data)\n",
    "unet_d = unet(pyramid[-1], t)\n",
    "unet_d.to(device=\"cpu\")\n",
    "show_batch(images=unet_d, ncols=8)\n"
   ]
  }
 ],
 "metadata": {
  "kernelspec": {
   "display_name": "jih_icicic",
   "language": "python",
   "name": "python3"
  },
  "language_info": {
   "codemirror_mode": {
    "name": "ipython",
    "version": 3
   },
   "file_extension": ".py",
   "mimetype": "text/x-python",
   "name": "python",
   "nbconvert_exporter": "python",
   "pygments_lexer": "ipython3",
   "version": "3.11.11"
  }
 },
 "nbformat": 4,
 "nbformat_minor": 5
}
