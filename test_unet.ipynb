{
 "cells": [
  {
   "cell_type": "code",
   "execution_count": null,
   "id": "25798057",
   "metadata": {},
   "outputs": [],
   "source": [
    "import matplotlib.pyplot as plt\n",
    "import torchvision.transforms.functional as F\n",
    "import os\n"
   ]
  },
  {
   "cell_type": "code",
   "execution_count": null,
   "id": "759f243f",
   "metadata": {},
   "outputs": [],
   "source": [
    "from torch.utils.data import DataLoader\n"
   ]
  },
  {
   "cell_type": "code",
   "execution_count": null,
   "id": "68bab097",
   "metadata": {},
   "outputs": [],
   "source": [
    "from data.dataloader import CustomDataset\n",
    "from data.utils import DataTransform\n",
    "from model.blocks.contourlet import ContourletTransform\n"
   ]
  },
  {
   "cell_type": "code",
   "execution_count": null,
   "id": "0405750d",
   "metadata": {},
   "outputs": [],
   "source": [
    "transform=DataTransform(image_size=640)\n",
    "\n",
    "dataset = CustomDataset(\n",
    "    path=\"data/1_train/1_LOLdataset\",\n",
    "    transform=transform\n",
    ")\n"
   ]
  },
  {
   "cell_type": "code",
   "execution_count": null,
   "id": "45da4c47",
   "metadata": {},
   "outputs": [],
   "source": [
    "dataloader = DataLoader(\n",
    "    dataset=dataset,\n",
    "    batch_size=16,\n",
    "    shuffle=True,\n",
    "    num_workers=int(os.cpu_count() * 0.9),\n",
    "    persistent_workers=True,\n",
    "    pin_memory=True\n",
    ")\n"
   ]
  },
  {
   "cell_type": "code",
   "execution_count": null,
   "id": "7378a98a",
   "metadata": {},
   "outputs": [],
   "source": [
    "data = next(iter(dataloader))\n",
    "print(data.shape)\n"
   ]
  },
  {
   "cell_type": "code",
   "execution_count": null,
   "id": "94b7325c",
   "metadata": {},
   "outputs": [],
   "source": [
    "def show_batch(images, ncols=8):\n",
    "    nimgs = images.shape[0]\n",
    "    nrows = (nimgs + ncols - 1) // ncols\n",
    "    plt.figure(figsize=(ncols * 3, nrows * 3))\n",
    "    for i in range(nimgs):\n",
    "        plt.subplot(nrows, ncols, i + 1)\n",
    "        plt.imshow(X=F.to_pil_image(pic=images[i]))\n",
    "        plt.axis('off')\n",
    "        plt.title(label=f\"Image {i}\")\n",
    "    plt.tight_layout()\n",
    "    plt.show()\n",
    "\n",
    "show_batch(images=data)\n"
   ]
  },
  {
   "cell_type": "code",
   "execution_count": null,
   "id": "dde5283c",
   "metadata": {},
   "outputs": [],
   "source": [
    "contourlet = ContourletTransform(\n",
    "    num_levels=4,\n",
    "    filter_size=5,\n",
    "    sigma=1.0,\n",
    "    omega_x=0.25,\n",
    "    omega_y=0.25,\n",
    "    channels=3\n",
    ")\n",
    "\n",
    "pyramid, subbands = contourlet(data)\n"
   ]
  },
  {
   "cell_type": "code",
   "execution_count": null,
   "id": "70a25991",
   "metadata": {},
   "outputs": [],
   "source": [
    "t = torch.randint(low=0, high=10000, size=(16,))\n",
    "rn = UNet(in_channels=3, out_channels=3, hidden_channels=64, num_levels=3, temb_dim=64, dropout=0.1, shortcut=True, trainable=False)\n",
    "\n",
    "rn_d = rn(pyramid[-1], t)\n",
    "\n",
    "show_batch(rn_d)\n"
   ]
  }
 ],
 "metadata": {
  "kernelspec": {
   "display_name": "jih_icicic",
   "language": "python",
   "name": "python3"
  },
  "language_info": {
   "codemirror_mode": {
    "name": "ipython",
    "version": 3
   },
   "file_extension": ".py",
   "mimetype": "text/x-python",
   "name": "python",
   "nbconvert_exporter": "python",
   "pygments_lexer": "ipython3",
   "version": "3.11.11"
  }
 },
 "nbformat": 4,
 "nbformat_minor": 5
}
